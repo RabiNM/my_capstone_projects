{
  "nbformat": 4,
  "nbformat_minor": 0,
  "metadata": {
    "colab": {
      "provenance": []
    },
    "kernelspec": {
      "name": "python3",
      "display_name": "Python 3"
    },
    "language_info": {
      "name": "python"
    }
  },
  "cells": [
    {
      "cell_type": "code",
      "execution_count": null,
      "metadata": {
        "id": "32Wt8oMLWcg6"
      },
      "outputs": [],
      "source": [
        "import pandas as pd\n",
        "from sklearn.preprocessing import StandardScaler\n",
        "from sklearn.cluster import KMeans\n",
        "import matplotlib.pyplot as plt\n",
        "import seaborn as sns"
      ]
    },
    {
      "cell_type": "code",
      "source": [
        "# Load the data\n",
        "file_path = '/content/BUS_PROFILE_DATA.csv'\n",
        "data = pd.read_csv(file_path)"
      ],
      "metadata": {
        "id": "cQ5L_BoMWoVx"
      },
      "execution_count": null,
      "outputs": []
    },
    {
      "cell_type": "code",
      "source": [
        "# Inspect the first few rows of the data\n",
        "print(data.head())"
      ],
      "metadata": {
        "colab": {
          "base_uri": "https://localhost:8080/"
        },
        "id": "sv6Fl-BlyFYj",
        "outputId": "a4ad4b7a-afc6-4979-a627-48964216241c"
      },
      "execution_count": null,
      "outputs": [
        {
          "output_type": "stream",
          "name": "stdout",
          "text": [
            "                            BUS_NAME                   BUS_TYPE        CITY  \\\n",
            "0                      Alto Palo Inc                  Taco Bell      Aurora   \n",
            "1  Columbia Basin Health Association      Wahluke Family Clinic     Mattawa   \n",
            "2      Computer Sciences Corporation                        NaN   Camarillo   \n",
            "3      Northern States Power Company                XCEL Energy  Saint Paul   \n",
            "4                 Ufp Riverside, LLC  Universal Forest Products   Riverside   \n",
            "\n",
            "  STATE_CD COUNTRY_NAME  EMPLOYEES_WORKING_HERE  EMPLOYEES_TOTAL  \\\n",
            "0       CO          USA                       1                0   \n",
            "1       WA          USA                      45                0   \n",
            "2       CA          USA                       3                0   \n",
            "3       MN          USA                       1                0   \n",
            "4       CA          USA                      42               42   \n",
            "\n",
            "   NO_OF_FMLY_MMBRS  YEAR_ESTABLISHED CURRENCY_CODE  ... DPV_CONFIRM  \\\n",
            "0                77                 0           NaN  ...           Y   \n",
            "1                 4                 0           NaN  ...           Y   \n",
            "2              1182                 0           NaN  ...           Y   \n",
            "3               260                 0           NaN  ...           Y   \n",
            "4               284              2016           NaN  ...           Y   \n",
            "\n",
            "  AVG_3MON_TOT_REV_AMT CARRIER_LINE_TYPE BUS_EST_NETWORK_SPEND  \\\n",
            "0               309.01          WIRELINE              82460.97   \n",
            "1              4094.20          WIRELINE              12151.43   \n",
            "2               621.86               NaN             123552.42   \n",
            "3             17237.40          WIRELINE                   NaN   \n",
            "4              1095.19          WIRELINE             398892.50   \n",
            "\n",
            "  BUS_EST_SECURITY_SPEND BUS_EST_SERVICES_SPEND BUS_EST_VOICE_SPEND  \\\n",
            "0               13183.94               10403.21             2627.10   \n",
            "1               21931.86               12663.90             1877.27   \n",
            "2               22866.14               41703.62            33293.05   \n",
            "3                    NaN                    NaN                 NaN   \n",
            "4               24346.25              242909.59            54574.86   \n",
            "\n",
            "  BUS_EST_TOT_SPEND          BUS_SEGMENT MNC_INDR  \n",
            "0          108675.0         INSIDE_NAMED        N  \n",
            "1           48624.0  REGIONAL_ENTERPRISE        N  \n",
            "2          221415.0                  KEY        Y  \n",
            "3               NaN                  NaN        N  \n",
            "4          720723.0                LARGE        Y  \n",
            "\n",
            "[5 rows x 69 columns]\n"
          ]
        }
      ]
    },
    {
      "cell_type": "code",
      "source": [
        "# Select relevant columns for segmentation\n",
        "spend_columns = [\n",
        "    'BUS_EST_NETWORK_SPEND',\n",
        "    'BUS_EST_SECURITY_SPEND',\n",
        "    'BUS_EST_VOICE_SPEND',\n",
        "    'BUS_EST_TOT_SPEND'\n",
        "]"
      ],
      "metadata": {
        "id": "BKNsPq5TyHg_"
      },
      "execution_count": null,
      "outputs": []
    },
    {
      "cell_type": "code",
      "source": [
        "# Filter out rows with missing values in the selected columns\n",
        "data = data.dropna(subset=spend_columns)\n"
      ],
      "metadata": {
        "id": "hVqy0broyNoa"
      },
      "execution_count": null,
      "outputs": []
    },
    {
      "cell_type": "code",
      "source": [
        "# Normalize the data for clustering\n",
        "scaler = StandardScaler()\n",
        "scaled_data = scaler.fit_transform(data[spend_columns])"
      ],
      "metadata": {
        "id": "k484H9UEyRPG"
      },
      "execution_count": null,
      "outputs": []
    },
    {
      "source": [
        "# Import the KMeans class\n",
        "from sklearn.cluster import KMeans\n",
        "\n",
        "# Calculate WCSS for different cluster numbers\n",
        "wcss = []\n",
        "for i in range(1, 11):\n",
        "    kmeans = KMeans(n_clusters=i, random_state=42) # Initialize KMeans with i clusters\n",
        "    kmeans.fit(scaled_data) # Fit the model to your scaled data\n",
        "    wcss.append(kmeans.inertia_) # Append the inertia_ (WCSS) to the list\n",
        "\n",
        "# Plot the Elbow curve\n",
        "plt.figure(figsize=(10, 6))\n",
        "plt.plot(range(1, 11), wcss, marker='o')\n",
        "plt.title('Elbow Method for Optimal Number of Clusters')\n",
        "plt.xlabel('Number of clusters')\n",
        "plt.ylabel('WCSS')\n",
        "plt.show()"
      ],
      "cell_type": "code",
      "metadata": {
        "colab": {
          "base_uri": "https://localhost:8080/",
          "height": 931
        },
        "id": "RYL0L7UF1nd9",
        "outputId": "c6616a60-393a-4dc7-a59f-bf480240d7c4"
      },
      "execution_count": null,
      "outputs": [
        {
          "output_type": "stream",
          "name": "stderr",
          "text": [
            "/usr/local/lib/python3.10/dist-packages/sklearn/cluster/_kmeans.py:1416: FutureWarning: The default value of `n_init` will change from 10 to 'auto' in 1.4. Set the value of `n_init` explicitly to suppress the warning\n",
            "  super()._check_params_vs_input(X, default_n_init=10)\n",
            "/usr/local/lib/python3.10/dist-packages/sklearn/cluster/_kmeans.py:1416: FutureWarning: The default value of `n_init` will change from 10 to 'auto' in 1.4. Set the value of `n_init` explicitly to suppress the warning\n",
            "  super()._check_params_vs_input(X, default_n_init=10)\n",
            "/usr/local/lib/python3.10/dist-packages/sklearn/cluster/_kmeans.py:1416: FutureWarning: The default value of `n_init` will change from 10 to 'auto' in 1.4. Set the value of `n_init` explicitly to suppress the warning\n",
            "  super()._check_params_vs_input(X, default_n_init=10)\n",
            "/usr/local/lib/python3.10/dist-packages/sklearn/cluster/_kmeans.py:1416: FutureWarning: The default value of `n_init` will change from 10 to 'auto' in 1.4. Set the value of `n_init` explicitly to suppress the warning\n",
            "  super()._check_params_vs_input(X, default_n_init=10)\n",
            "/usr/local/lib/python3.10/dist-packages/sklearn/cluster/_kmeans.py:1416: FutureWarning: The default value of `n_init` will change from 10 to 'auto' in 1.4. Set the value of `n_init` explicitly to suppress the warning\n",
            "  super()._check_params_vs_input(X, default_n_init=10)\n",
            "/usr/local/lib/python3.10/dist-packages/sklearn/cluster/_kmeans.py:1416: FutureWarning: The default value of `n_init` will change from 10 to 'auto' in 1.4. Set the value of `n_init` explicitly to suppress the warning\n",
            "  super()._check_params_vs_input(X, default_n_init=10)\n",
            "/usr/local/lib/python3.10/dist-packages/sklearn/cluster/_kmeans.py:1416: FutureWarning: The default value of `n_init` will change from 10 to 'auto' in 1.4. Set the value of `n_init` explicitly to suppress the warning\n",
            "  super()._check_params_vs_input(X, default_n_init=10)\n",
            "/usr/local/lib/python3.10/dist-packages/sklearn/cluster/_kmeans.py:1416: FutureWarning: The default value of `n_init` will change from 10 to 'auto' in 1.4. Set the value of `n_init` explicitly to suppress the warning\n",
            "  super()._check_params_vs_input(X, default_n_init=10)\n",
            "/usr/local/lib/python3.10/dist-packages/sklearn/cluster/_kmeans.py:1416: FutureWarning: The default value of `n_init` will change from 10 to 'auto' in 1.4. Set the value of `n_init` explicitly to suppress the warning\n",
            "  super()._check_params_vs_input(X, default_n_init=10)\n",
            "/usr/local/lib/python3.10/dist-packages/sklearn/cluster/_kmeans.py:1416: FutureWarning: The default value of `n_init` will change from 10 to 'auto' in 1.4. Set the value of `n_init` explicitly to suppress the warning\n",
            "  super()._check_params_vs_input(X, default_n_init=10)\n"
          ]
        },
        {
          "output_type": "display_data",
          "data": {
            "text/plain": [
              "<Figure size 1000x600 with 1 Axes>"
            ],
            "image/png": "[encoded data removed]"
          },
          "metadata": {}
        }
      ]
    },
    {
      "cell_type": "code",
      "source": [
        "# From the plot, choose the optimal number of clusters, say 2 for this example\n",
        "optimal_clusters = 2"
      ],
      "metadata": {
        "id": "Hh3vb4diya5S"
      },
      "execution_count": null,
      "outputs": []
    },
    {
      "cell_type": "code",
      "source": [
        "# Apply K-Means clustering\n",
        "kmeans = KMeans(n_clusters=optimal_clusters, random_state=42)\n",
        "data['Cluster'] = kmeans.fit_predict(scaled_data)\n"
      ],
      "metadata": {
        "colab": {
          "base_uri": "https://localhost:8080/"
        },
        "id": "_MqGX3rAye41",
        "outputId": "90b6ebc0-a10f-4e76-a794-157a0abe7262"
      },
      "execution_count": null,
      "outputs": [
        {
          "output_type": "stream",
          "name": "stderr",
          "text": [
            "/usr/local/lib/python3.10/dist-packages/sklearn/cluster/_kmeans.py:1416: FutureWarning: The default value of `n_init` will change from 10 to 'auto' in 1.4. Set the value of `n_init` explicitly to suppress the warning\n",
            "  super()._check_params_vs_input(X, default_n_init=10)\n"
          ]
        }
      ]
    },
    {
      "source": [
        "# Define the threshold for high-value customers (You can adjust this threshold as per the dataset)\n",
        "# Assuming that the threshold for each spend category is set as the 75th percentile of the data\n",
        "network_threshold = data['BUS_EST_NETWORK_SPEND'].quantile(0.75) # Use 'data' instead of 'df'\n",
        "security_threshold = data['BUS_EST_SECURITY_SPEND'].quantile(0.75) # Use 'data' instead of 'df'\n",
        "voice_threshold = data['BUS_EST_VOICE_SPEND'].quantile(0.75) # Use 'data' instead of 'df'\n",
        "tot_spend_threshold = data['BUS_EST_TOT_SPEND'].quantile(0.75) # Use 'data' instead of 'df'"
      ],
      "cell_type": "code",
      "metadata": {
        "id": "5t3ca-Io2HqW"
      },
      "execution_count": null,
      "outputs": []
    },
    {
      "cell_type": "code",
      "source": [
        "# Function to classify customers\n",
        "def classify_customer(row):\n",
        "    if (row['BUS_EST_NETWORK_SPEND'] >= network_threshold or\n",
        "        row['BUS_EST_SECURITY_SPEND'] >= security_threshold or\n",
        "        row['BUS_EST_VOICE_SPEND'] >= voice_threshold or\n",
        "        row['BUS_EST_TOT_SPEND'] >= tot_spend_threshold):\n",
        "        return 'High-Value'\n",
        "    else:\n",
        "        return 'Low-Value'"
      ],
      "metadata": {
        "id": "f4EvvzfqztsO"
      },
      "execution_count": null,
      "outputs": []
    },
    {
      "source": [
        "# Apply the classification\n",
        "data['Customer_Segment'] = data.apply(classify_customer, axis=1) # Use 'data' instead of 'df'"
      ],
      "cell_type": "code",
      "metadata": {
        "id": "rPrA4XpQ2Ukw"
      },
      "execution_count": null,
      "outputs": []
    },
    {
      "source": [
        "# Plot the distribution of customer segments\n",
        "segment_counts = data['Customer_Segment'].value_counts() # Use 'data' instead of 'df'\n",
        "plt.figure(figsize=(8,6))\n",
        "plt.bar(segment_counts.index, segment_counts.values, color=['green', 'blue'])\n",
        "plt.title('Customer Segmentation Based on Spend Analysis')\n",
        "plt.xlabel('Customer Segment')\n",
        "plt.ylabel('Number of Customers')\n",
        "plt.show()\n"
      ],
      "cell_type": "code",
      "metadata": {
        "colab": {
          "base_uri": "https://localhost:8080/",
          "height": 564
        },
        "id": "C64HpdNk2eKY",
        "outputId": "3eac50ba-bbec-44fc-9535-e9f732d15e90"
      },
      "execution_count": null,
      "outputs": [
        {
          "output_type": "display_data",
          "data": {
            "text/plain": [
              "<Figure size 800x600 with 1 Axes>"
            ],
            "image/png": "[encoded data removed]"
          },
          "metadata": {}
        }
      ]
    },
    {
      "cell_type": "code",
      "source": [
        "# Display the first few rows of the dataframe with the new segmentation\n",
        "data.head()"
      ],
      "metadata": {
        "colab": {
          "base_uri": "https://localhost:8080/",
          "height": 464
        },
        "id": "hRmEJDWAz2rX",
        "outputId": "ebfa9877-d212-4f77-f3ad-8349eebb7754"
      },
      "execution_count": null,
      "outputs": [
        {
          "output_type": "execute_result",
          "data": {
            "text/plain": [
              "                                       BUS_NAME                   BUS_TYPE  \\\n",
              "0                                 Alto Palo Inc                  Taco Bell   \n",
              "1             Columbia Basin Health Association      Wahluke Family Clinic   \n",
              "2                 Computer Sciences Corporation                        NaN   \n",
              "4                            Ufp Riverside, LLC  Universal Forest Products   \n",
              "5  Expeditors International of Washington, Inc.   Expeditors International   \n",
              "\n",
              "        CITY STATE_CD COUNTRY_NAME  EMPLOYEES_WORKING_HERE  EMPLOYEES_TOTAL  \\\n",
              "0     Aurora       CO          USA                       1                0   \n",
              "1    Mattawa       WA          USA                      45                0   \n",
              "2  Camarillo       CA          USA                       3                0   \n",
              "4  Riverside       CA          USA                      42               42   \n",
              "5     Sumner       WA          USA                      10                0   \n",
              "\n",
              "   NO_OF_FMLY_MMBRS  YEAR_ESTABLISHED CURRENCY_CODE  ... CARRIER_LINE_TYPE  \\\n",
              "0                77                 0           NaN  ...          WIRELINE   \n",
              "1                 4                 0           NaN  ...          WIRELINE   \n",
              "2              1182                 0           NaN  ...               NaN   \n",
              "4               284              2016           NaN  ...          WIRELINE   \n",
              "5               367                 0           NaN  ...          WIRELINE   \n",
              "\n",
              "  BUS_EST_NETWORK_SPEND BUS_EST_SECURITY_SPEND BUS_EST_SERVICES_SPEND  \\\n",
              "0              82460.97               13183.94               10403.21   \n",
              "1              12151.43               21931.86               12663.90   \n",
              "2             123552.42               22866.14               41703.62   \n",
              "4             398892.50               24346.25              242909.59   \n",
              "5             113245.11               60849.20              229195.73   \n",
              "\n",
              "  BUS_EST_VOICE_SPEND BUS_EST_TOT_SPEND          BUS_SEGMENT MNC_INDR Cluster  \\\n",
              "0             2627.10          108675.0         INSIDE_NAMED        N       0   \n",
              "1             1877.27           48624.0  REGIONAL_ENTERPRISE        N       0   \n",
              "2            33293.05          221415.0                  KEY        Y       0   \n",
              "4            54574.86          720723.0                LARGE        Y       0   \n",
              "5            26973.93          430264.0                LARGE        Y       0   \n",
              "\n",
              "  Customer_Segment  \n",
              "0        Low-Value  \n",
              "1        Low-Value  \n",
              "2       High-Value  \n",
              "4       High-Value  \n",
              "5       High-Value  \n",
              "\n",
              "[5 rows x 71 columns]"
            ],
            "text/html": [
              "\n",
              "  <div id=\"df-b6ee17be-0e26-4a19-81c1-3fa9486528d2\" class=\"colab-df-container\">\n",
              "    <div>\n",
              "<style scoped>\n",
              "    .dataframe tbody tr th:only-of-type {\n",
              "        vertical-align: middle;\n",
              "    }\n",
              "\n",
              "    .dataframe tbody tr th {\n",
              "        vertical-align: top;\n",
              "    }\n",
              "\n",
              "    .dataframe thead th {\n",
              "        text-align: right;\n",
              "    }\n",
              "</style>\n",
              "<table border=\"1\" class=\"dataframe\">\n",
              "  <thead>\n",
              "    <tr style=\"text-align: right;\">\n",
              "      <th></th>\n",
              "      <th>BUS_NAME</th>\n",
              "      <th>BUS_TYPE</th>\n",
              "      <th>CITY</th>\n",
              "      <th>STATE_CD</th>\n",
              "      <th>COUNTRY_NAME</th>\n",
              "      <th>EMPLOYEES_WORKING_HERE</th>\n",
              "      <th>EMPLOYEES_TOTAL</th>\n",
              "      <th>NO_OF_FMLY_MMBRS</th>\n",
              "      <th>YEAR_ESTABLISHED</th>\n",
              "      <th>CURRENCY_CODE</th>\n",
              "      <th>...</th>\n",
              "      <th>CARRIER_LINE_TYPE</th>\n",
              "      <th>BUS_EST_NETWORK_SPEND</th>\n",
              "      <th>BUS_EST_SECURITY_SPEND</th>\n",
              "      <th>BUS_EST_SERVICES_SPEND</th>\n",
              "      <th>BUS_EST_VOICE_SPEND</th>\n",
              "      <th>BUS_EST_TOT_SPEND</th>\n",
              "      <th>BUS_SEGMENT</th>\n",
              "      <th>MNC_INDR</th>\n",
              "      <th>Cluster</th>\n",
              "      <th>Customer_Segment</th>\n",
              "    </tr>\n",
              "  </thead>\n",
              "  <tbody>\n",
              "    <tr>\n",
              "      <th>0</th>\n",
              "      <td>Alto Palo Inc</td>\n",
              "      <td>Taco Bell</td>\n",
              "      <td>Aurora</td>\n",
              "      <td>CO</td>\n",
              "      <td>USA</td>\n",
              "      <td>1</td>\n",
              "      <td>0</td>\n",
              "      <td>77</td>\n",
              "      <td>0</td>\n",
              "      <td>NaN</td>\n",
              "      <td>...</td>\n",
              "      <td>WIRELINE</td>\n",
              "      <td>82460.97</td>\n",
              "      <td>13183.94</td>\n",
              "      <td>10403.21</td>\n",
              "      <td>2627.10</td>\n",
              "      <td>108675.0</td>\n",
              "      <td>INSIDE_NAMED</td>\n",
              "      <td>N</td>\n",
              "      <td>0</td>\n",
              "      <td>Low-Value</td>\n",
              "    </tr>\n",
              "    <tr>\n",
              "      <th>1</th>\n",
              "      <td>Columbia Basin Health Association</td>\n",
              "      <td>Wahluke Family Clinic</td>\n",
              "      <td>Mattawa</td>\n",
              "      <td>WA</td>\n",
              "      <td>USA</td>\n",
              "      <td>45</td>\n",
              "      <td>0</td>\n",
              "      <td>4</td>\n",
              "      <td>0</td>\n",
              "      <td>NaN</td>\n",
              "      <td>...</td>\n",
              "      <td>WIRELINE</td>\n",
              "      <td>12151.43</td>\n",
              "      <td>21931.86</td>\n",
              "      <td>12663.90</td>\n",
              "      <td>1877.27</td>\n",
              "      <td>48624.0</td>\n",
              "      <td>REGIONAL_ENTERPRISE</td>\n",
              "      <td>N</td>\n",
              "      <td>0</td>\n",
              "      <td>Low-Value</td>\n",
              "    </tr>\n",
              "    <tr>\n",
              "      <th>2</th>\n",
              "      <td>Computer Sciences Corporation</td>\n",
              "      <td>NaN</td>\n",
              "      <td>Camarillo</td>\n",
              "      <td>CA</td>\n",
              "      <td>USA</td>\n",
              "      <td>3</td>\n",
              "      <td>0</td>\n",
              "      <td>1182</td>\n",
              "      <td>0</td>\n",
              "      <td>NaN</td>\n",
              "      <td>...</td>\n",
              "      <td>NaN</td>\n",
              "      <td>123552.42</td>\n",
              "      <td>22866.14</td>\n",
              "      <td>41703.62</td>\n",
              "      <td>33293.05</td>\n",
              "      <td>221415.0</td>\n",
              "      <td>KEY</td>\n",
              "      <td>Y</td>\n",
              "      <td>0</td>\n",
              "      <td>High-Value</td>\n",
              "    </tr>\n",
              "    <tr>\n",
              "      <th>4</th>\n",
              "      <td>Ufp Riverside, LLC</td>\n",
              "      <td>Universal Forest Products</td>\n",
              "      <td>Riverside</td>\n",
              "      <td>CA</td>\n",
              "      <td>USA</td>\n",
              "      <td>42</td>\n",
              "      <td>42</td>\n",
              "      <td>284</td>\n",
              "      <td>2016</td>\n",
              "      <td>NaN</td>\n",
              "      <td>...</td>\n",
              "      <td>WIRELINE</td>\n",
              "      <td>398892.50</td>\n",
              "      <td>24346.25</td>\n",
              "      <td>242909.59</td>\n",
              "      <td>54574.86</td>\n",
              "      <td>720723.0</td>\n",
              "      <td>LARGE</td>\n",
              "      <td>Y</td>\n",
              "      <td>0</td>\n",
              "      <td>High-Value</td>\n",
              "    </tr>\n",
              "    <tr>\n",
              "      <th>5</th>\n",
              "      <td>Expeditors International of Washington, Inc.</td>\n",
              "      <td>Expeditors International</td>\n",
              "      <td>Sumner</td>\n",
              "      <td>WA</td>\n",
              "      <td>USA</td>\n",
              "      <td>10</td>\n",
              "      <td>0</td>\n",
              "      <td>367</td>\n",
              "      <td>0</td>\n",
              "      <td>NaN</td>\n",
              "      <td>...</td>\n",
              "      <td>WIRELINE</td>\n",
              "      <td>113245.11</td>\n",
              "      <td>60849.20</td>\n",
              "      <td>229195.73</td>\n",
              "      <td>26973.93</td>\n",
              "      <td>430264.0</td>\n",
              "      <td>LARGE</td>\n",
              "      <td>Y</td>\n",
              "      <td>0</td>\n",
              "      <td>High-Value</td>\n",
              "    </tr>\n",
              "  </tbody>\n",
              "</table>\n",
              "<p>5 rows × 71 columns</p>\n",
              "</div>\n",
              "    <div class=\"colab-df-buttons\">\n",
              "\n",
              "  <div class=\"colab-df-container\">\n",
              "    <button class=\"colab-df-convert\" onclick=\"convertToInteractive('df-b6ee17be-0e26-4a19-81c1-3fa9486528d2')\"\n",
              "            title=\"Convert this dataframe to an interactive table.\"\n",
              "            style=\"display:none;\">\n",
              "\n",
              "  <svg xmlns=\"http://www.w3.org/2000/svg\" height=\"24px\" viewBox=\"0 -960 960 960\">\n",
              "    <path d=\"M120-120v-720h720v720H120Zm60-500h600v-160H180v160Zm220 220h160v-160H400v160Zm0 220h160v-160H400v160ZM180-400h160v-160H180v160Zm440 0h160v-160H620v160ZM180-180h160v-160H180v160Zm440 0h160v-160H620v160Z\"/>\n",
              "  </svg>\n",
              "    </button>\n",
              "\n",
              "  <style>\n",
              "    .colab-df-container {\n",
              "      display:flex;\n",
              "      gap: 12px;\n",
              "    }\n",
              "\n",
              "    .colab-df-convert {\n",
              "      background-color: #E8F0FE;\n",
              "      border: none;\n",
              "      border-radius: 50%;\n",
              "      cursor: pointer;\n",
              "      display: none;\n",
              "      fill: #1967D2;\n",
              "      height: 32px;\n",
              "      padding: 0 0 0 0;\n",
              "      width: 32px;\n",
              "    }\n",
              "\n",
              "    .colab-df-convert:hover {\n",
              "      background-color: #E2EBFA;\n",
              "      box-shadow: 0px 1px 2px rgba(60, 64, 67, 0.3), 0px 1px 3px 1px rgba(60, 64, 67, 0.15);\n",
              "      fill: #174EA6;\n",
              "    }\n",
              "\n",
              "    .colab-df-buttons div {\n",
              "      margin-bottom: 4px;\n",
              "    }\n",
              "\n",
              "    [theme=dark] .colab-df-convert {\n",
              "      background-color: #3B4455;\n",
              "      fill: #D2E3FC;\n",
              "    }\n",
              "\n",
              "    [theme=dark] .colab-df-convert:hover {\n",
              "      background-color: #434B5C;\n",
              "      box-shadow: 0px 1px 3px 1px rgba(0, 0, 0, 0.15);\n",
              "      filter: drop-shadow(0px 1px 2px rgba(0, 0, 0, 0.3));\n",
              "      fill: #FFFFFF;\n",
              "    }\n",
              "  </style>\n",
              "\n",
              "    <script>\n",
              "      const buttonEl =\n",
              "        document.querySelector('#df-b6ee17be-0e26-4a19-81c1-3fa9486528d2 button.colab-df-convert');\n",
              "      buttonEl.style.display =\n",
              "        google.colab.kernel.accessAllowed ? 'block' : 'none';\n",
              "\n",
              "      async function convertToInteractive(key) {\n",
              "        const element = document.querySelector('#df-b6ee17be-0e26-4a19-81c1-3fa9486528d2');\n",
              "        const dataTable =\n",
              "          await google.colab.kernel.invokeFunction('convertToInteractive',\n",
              "                                                    [key], {});\n",
              "        if (!dataTable) return;\n",
              "\n",
              "        const docLinkHtml = 'Like what you see? Visit the ' +\n",
              "          '<a target=\"_blank\" href=https://colab.research.google.com/notebooks/data_table.ipynb>data table notebook</a>'\n",
              "          + ' to learn more about interactive tables.';\n",
              "        element.innerHTML = '';\n",
              "        dataTable['output_type'] = 'display_data';\n",
              "        await google.colab.output.renderOutput(dataTable, element);\n",
              "        const docLink = document.createElement('div');\n",
              "        docLink.innerHTML = docLinkHtml;\n",
              "        element.appendChild(docLink);\n",
              "      }\n",
              "    </script>\n",
              "  </div>\n",
              "\n",
              "\n",
              "<div id=\"df-93da8e2d-15f9-410c-b9ff-be10bdab5ecd\">\n",
              "  <button class=\"colab-df-quickchart\" onclick=\"quickchart('df-93da8e2d-15f9-410c-b9ff-be10bdab5ecd')\"\n",
              "            title=\"Suggest charts\"\n",
              "            style=\"display:none;\">\n",
              "\n",
              "<svg xmlns=\"http://www.w3.org/2000/svg\" height=\"24px\"viewBox=\"0 0 24 24\"\n",
              "     width=\"24px\">\n",
              "    <g>\n",
              "        <path d=\"M19 3H5c-1.1 0-2 .9-2 2v14c0 1.1.9 2 2 2h14c1.1 0 2-.9 2-2V5c0-1.1-.9-2-2-2zM9 17H7v-7h2v7zm4 0h-2V7h2v10zm4 0h-2v-4h2v4z\"/>\n",
              "    </g>\n",
              "</svg>\n",
              "  </button>\n",
              "\n",
              "<style>\n",
              "  .colab-df-quickchart {\n",
              "      --bg-color: #E8F0FE;\n",
              "      --fill-color: #1967D2;\n",
              "      --hover-bg-color: #E2EBFA;\n",
              "      --hover-fill-color: #174EA6;\n",
              "      --disabled-fill-color: #AAA;\n",
              "      --disabled-bg-color: #DDD;\n",
              "  }\n",
              "\n",
              "  [theme=dark] .colab-df-quickchart {\n",
              "      --bg-color: #3B4455;\n",
              "      --fill-color: #D2E3FC;\n",
              "      --hover-bg-color: #434B5C;\n",
              "      --hover-fill-color: #FFFFFF;\n",
              "      --disabled-bg-color: #3B4455;\n",
              "      --disabled-fill-color: #666;\n",
              "  }\n",
              "\n",
              "  .colab-df-quickchart {\n",
              "    background-color: var(--bg-color);\n",
              "    border: none;\n",
              "    border-radius: 50%;\n",
              "    cursor: pointer;\n",
              "    display: none;\n",
              "    fill: var(--fill-color);\n",
              "    height: 32px;\n",
              "    padding: 0;\n",
              "    width: 32px;\n",
              "  }\n",
              "\n",
              "  .colab-df-quickchart:hover {\n",
              "    background-color: var(--hover-bg-color);\n",
              "    box-shadow: 0 1px 2px rgba(60, 64, 67, 0.3), 0 1px 3px 1px rgba(60, 64, 67, 0.15);\n",
              "    fill: var(--button-hover-fill-color);\n",
              "  }\n",
              "\n",
              "  .colab-df-quickchart-complete:disabled,\n",
              "  .colab-df-quickchart-complete:disabled:hover {\n",
              "    background-color: var(--disabled-bg-color);\n",
              "    fill: var(--disabled-fill-color);\n",
              "    box-shadow: none;\n",
              "  }\n",
              "\n",
              "  .colab-df-spinner {\n",
              "    border: 2px solid var(--fill-color);\n",
              "    border-color: transparent;\n",
              "    border-bottom-color: var(--fill-color);\n",
              "    animation:\n",
              "      spin 1s steps(1) infinite;\n",
              "  }\n",
              "\n",
              "  @keyframes spin {\n",
              "    0% {\n",
              "      border-color: transparent;\n",
              "      border-bottom-color: var(--fill-color);\n",
              "      border-left-color: var(--fill-color);\n",
              "    }\n",
              "    20% {\n",
              "      border-color: transparent;\n",
              "      border-left-color: var(--fill-color);\n",
              "      border-top-color: var(--fill-color);\n",
              "    }\n",
              "    30% {\n",
              "      border-color: transparent;\n",
              "      border-left-color: var(--fill-color);\n",
              "      border-top-color: var(--fill-color);\n",
              "      border-right-color: var(--fill-color);\n",
              "    }\n",
              "    40% {\n",
              "      border-color: transparent;\n",
              "      border-right-color: var(--fill-color);\n",
              "      border-top-color: var(--fill-color);\n",
              "    }\n",
              "    60% {\n",
              "      border-color: transparent;\n",
              "      border-right-color: var(--fill-color);\n",
              "    }\n",
              "    80% {\n",
              "      border-color: transparent;\n",
              "      border-right-color: var(--fill-color);\n",
              "      border-bottom-color: var(--fill-color);\n",
              "    }\n",
              "    90% {\n",
              "      border-color: transparent;\n",
              "      border-bottom-color: var(--fill-color);\n",
              "    }\n",
              "  }\n",
              "</style>\n",
              "\n",
              "  <script>\n",
              "    async function quickchart(key) {\n",
              "      const quickchartButtonEl =\n",
              "        document.querySelector('#' + key + ' button');\n",
              "      quickchartButtonEl.disabled = true;  // To prevent multiple clicks.\n",
              "      quickchartButtonEl.classList.add('colab-df-spinner');\n",
              "      try {\n",
              "        const charts = await google.colab.kernel.invokeFunction(\n",
              "            'suggestCharts', [key], {});\n",
              "      } catch (error) {\n",
              "        console.error('Error during call to suggestCharts:', error);\n",
              "      }\n",
              "      quickchartButtonEl.classList.remove('colab-df-spinner');\n",
              "      quickchartButtonEl.classList.add('colab-df-quickchart-complete');\n",
              "    }\n",
              "    (() => {\n",
              "      let quickchartButtonEl =\n",
              "        document.querySelector('#df-93da8e2d-15f9-410c-b9ff-be10bdab5ecd button');\n",
              "      quickchartButtonEl.style.display =\n",
              "        google.colab.kernel.accessAllowed ? 'block' : 'none';\n",
              "    })();\n",
              "  </script>\n",
              "</div>\n",
              "\n",
              "    </div>\n",
              "  </div>\n"
            ],
            "application/vnd.google.colaboratory.intrinsic+json": {
              "type": "dataframe",
              "variable_name": "data"
            }
          },
          "metadata": {},
          "execution_count": 21
        }
      ]
    },
    {
      "cell_type": "code",
      "source": [
        "# Save the dataframe to a CSV file\n",
        "df.to_csv('/content/segmented_customers.csv', index=False)\n",
        "\n",
        "# Provide a link to download the CSV file\n",
        "from google.colab import files\n",
        "files.download('/content/segmented_customers.csv')"
      ],
      "metadata": {
        "colab": {
          "base_uri": "https://localhost:8080/",
          "height": 211
        },
        "id": "7Zznc6Z8z7Ll",
        "outputId": "407c73ed-6fff-4197-a4b0-947b51f17419"
      },
      "execution_count": null,
      "outputs": [
        {
          "output_type": "error",
          "ename": "NameError",
          "evalue": "name 'df' is not defined",
          "traceback": [
            "\u001b[0;31m---------------------------------------------------------------------------\u001b[0m",
            "\u001b[0;31mNameError\u001b[0m                                 Traceback (most recent call last)",
            "\u001b[0;32m<ipython-input-22-89aa3be6463b>\u001b[0m in \u001b[0;36m<cell line: 2>\u001b[0;34m()\u001b[0m\n\u001b[1;32m      1\u001b[0m \u001b[0;31m# Save the dataframe to a CSV file\u001b[0m\u001b[0;34m\u001b[0m\u001b[0;34m\u001b[0m\u001b[0m\n\u001b[0;32m----> 2\u001b[0;31m \u001b[0mdf\u001b[0m\u001b[0;34m.\u001b[0m\u001b[0mto_csv\u001b[0m\u001b[0;34m(\u001b[0m\u001b[0;34m'/content/segmented_customers.csv'\u001b[0m\u001b[0;34m,\u001b[0m \u001b[0mindex\u001b[0m\u001b[0;34m=\u001b[0m\u001b[0;32mFalse\u001b[0m\u001b[0;34m)\u001b[0m\u001b[0;34m\u001b[0m\u001b[0;34m\u001b[0m\u001b[0m\n\u001b[0m\u001b[1;32m      3\u001b[0m \u001b[0;34m\u001b[0m\u001b[0m\n\u001b[1;32m      4\u001b[0m \u001b[0;31m# Provide a link to download the CSV file\u001b[0m\u001b[0;34m\u001b[0m\u001b[0;34m\u001b[0m\u001b[0m\n\u001b[1;32m      5\u001b[0m \u001b[0;32mfrom\u001b[0m \u001b[0mgoogle\u001b[0m\u001b[0;34m.\u001b[0m\u001b[0mcolab\u001b[0m \u001b[0;32mimport\u001b[0m \u001b[0mfiles\u001b[0m\u001b[0;34m\u001b[0m\u001b[0;34m\u001b[0m\u001b[0m\n",
            "\u001b[0;31mNameError\u001b[0m: name 'df' is not defined"
          ]
        }
      ]
    },
    {
      "source": [
        "# Save the dataframe to a CSV file\n",
        "data.to_csv('/content/segmented_customers.csv', index=False) # Changed 'df' to 'data'\n",
        "\n",
        "# Provide a link to download the CSV file\n",
        "from google.colab import files\n",
        "files.download('/content/segmented_customers.csv')"
      ],
      "cell_type": "code",
      "metadata": {
        "colab": {
          "base_uri": "https://localhost:8080/",
          "height": 17
        },
        "id": "P9Neor0n3HLH",
        "outputId": "a8b30978-6e53-48c2-cfd3-ce150b79ffd6"
      },
      "execution_count": null,
      "outputs": [
        {
          "output_type": "display_data",
          "data": {
            "text/plain": [
              "<IPython.core.display.Javascript object>"
            ],
            "application/javascript": [
              "\n",
              "    async function download(id, filename, size) {\n",
              "      if (!google.colab.kernel.accessAllowed) {\n",
              "        return;\n",
              "      }\n",
              "      const div = document.createElement('div');\n",
              "      const label = document.createElement('label');\n",
              "      label.textContent = `Downloading \"${filename}\": `;\n",
              "      div.appendChild(label);\n",
              "      const progress = document.createElement('progress');\n",
              "      progress.max = size;\n",
              "      div.appendChild(progress);\n",
              "      document.body.appendChild(div);\n",
              "\n",
              "      const buffers = [];\n",
              "      let downloaded = 0;\n",
              "\n",
              "      const channel = await google.colab.kernel.comms.open(id);\n",
              "      // Send a message to notify the kernel that we're ready.\n",
              "      channel.send({})\n",
              "\n",
              "      for await (const message of channel.messages) {\n",
              "        // Send a message to notify the kernel that we're ready.\n",
              "        channel.send({})\n",
              "        if (message.buffers) {\n",
              "          for (const buffer of message.buffers) {\n",
              "            buffers.push(buffer);\n",
              "            downloaded += buffer.byteLength;\n",
              "            progress.value = downloaded;\n",
              "          }\n",
              "        }\n",
              "      }\n",
              "      const blob = new Blob(buffers, {type: 'application/binary'});\n",
              "      const a = document.createElement('a');\n",
              "      a.href = window.URL.createObjectURL(blob);\n",
              "      a.download = filename;\n",
              "      div.appendChild(a);\n",
              "      a.click();\n",
              "      div.remove();\n",
              "    }\n",
              "  "
            ]
          },
          "metadata": {}
        },
        {
          "output_type": "display_data",
          "data": {
            "text/plain": [
              "<IPython.core.display.Javascript object>"
            ],
            "application/javascript": [
              "download(\"download_4659737e-a0c6-46ba-a503-88406b46fa10\", \"segmented_customers.csv\", 158636)"
            ]
          },
          "metadata": {}
        }
      ]
    }
  ]
}