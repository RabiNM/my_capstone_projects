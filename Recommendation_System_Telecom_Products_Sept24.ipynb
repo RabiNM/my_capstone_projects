{
  "nbformat": 4,
  "nbformat_minor": 0,
  "metadata": {
    "colab": {
      "provenance": []
    },
    "kernelspec": {
      "name": "python3",
      "display_name": "Python 3"
    },
    "language_info": {
      "name": "python"
    }
  },
  "cells": [
    {
      "cell_type": "code",
      "source": [
        "# Import necessary libraries\n",
        "import pandas as pd\n",
        "from sklearn.metrics.pairwise import cosine_similarity\n",
        "from sklearn.preprocessing import MinMaxScaler\n"
      ],
      "metadata": {
        "id": "7mPcQPCr1s0e"
      },
      "execution_count": 1,
      "outputs": []
    },
    {
      "cell_type": "code",
      "source": [
        "import pandas as pd\n",
        "from sklearn.preprocessing import StandardScaler\n",
        "from sklearn.metrics.pairwise import cosine_similarity\n",
        "from sklearn.cluster import KMeans\n",
        "import numpy as np"
      ],
      "metadata": {
        "id": "IcOR_4yUSp10"
      },
      "execution_count": 2,
      "outputs": []
    },
    {
      "cell_type": "code",
      "source": [
        "# Load the data\n",
        "file_path = '/content/BUS_PROFILE_DATA.csv'\n",
        "data = pd.read_csv(file_path)"
      ],
      "metadata": {
        "id": "oStUcxFB1tLt"
      },
      "execution_count": 3,
      "outputs": []
    },
    {
      "cell_type": "code",
      "source": [
        "# Display the first few rows of the data\n",
        "print(\"Data Preview:\")\n",
        "print(data.head())\n"
      ],
      "metadata": {
        "colab": {
          "base_uri": "https://localhost:8080/"
        },
        "id": "FxAVJmn41yt2",
        "outputId": "f03a2619-13e9-4783-ae30-4fff9246c2b6"
      },
      "execution_count": 4,
      "outputs": [
        {
          "output_type": "stream",
          "name": "stdout",
          "text": [
            "Data Preview:\n",
            "                            BUS_NAME                   BUS_TYPE        CITY  \\\n",
            "0                      Alto Palo Inc                  Taco Bell      Aurora   \n",
            "1  Columbia Basin Health Association      Wahluke Family Clinic     Mattawa   \n",
            "2      Computer Sciences Corporation                        NaN   Camarillo   \n",
            "3      Northern States Power Company                XCEL Energy  Saint Paul   \n",
            "4                 Ufp Riverside, LLC  Universal Forest Products   Riverside   \n",
            "\n",
            "  STATE_CD COUNTRY_NAME  EMPLOYEES_WORKING_HERE  EMPLOYEES_TOTAL  \\\n",
            "0       CO          USA                       1                0   \n",
            "1       WA          USA                      45                0   \n",
            "2       CA          USA                       3                0   \n",
            "3       MN          USA                       1                0   \n",
            "4       CA          USA                      42               42   \n",
            "\n",
            "   NO_OF_FMLY_MMBRS  YEAR_ESTABLISHED CURRENCY_CODE  ... DPV_CONFIRM  \\\n",
            "0                77                 0           NaN  ...           Y   \n",
            "1                 4                 0           NaN  ...           Y   \n",
            "2              1182                 0           NaN  ...           Y   \n",
            "3               260                 0           NaN  ...           Y   \n",
            "4               284              2016           NaN  ...           Y   \n",
            "\n",
            "  AVG_3MON_TOT_REV_AMT CARRIER_LINE_TYPE BUS_EST_NETWORK_SPEND  \\\n",
            "0               309.01          WIRELINE              82460.97   \n",
            "1              4094.20          WIRELINE              12151.43   \n",
            "2               621.86               NaN             123552.42   \n",
            "3             17237.40          WIRELINE                   NaN   \n",
            "4              1095.19          WIRELINE             398892.50   \n",
            "\n",
            "  BUS_EST_SECURITY_SPEND BUS_EST_SERVICES_SPEND BUS_EST_VOICE_SPEND  \\\n",
            "0               13183.94               10403.21             2627.10   \n",
            "1               21931.86               12663.90             1877.27   \n",
            "2               22866.14               41703.62            33293.05   \n",
            "3                    NaN                    NaN                 NaN   \n",
            "4               24346.25              242909.59            54574.86   \n",
            "\n",
            "  BUS_EST_TOT_SPEND          BUS_SEGMENT MNC_INDR  \n",
            "0          108675.0         INSIDE_NAMED        N  \n",
            "1           48624.0  REGIONAL_ENTERPRISE        N  \n",
            "2          221415.0                  KEY        Y  \n",
            "3               NaN                  NaN        N  \n",
            "4          720723.0                LARGE        Y  \n",
            "\n",
            "[5 rows x 69 columns]\n"
          ]
        }
      ]
    },
    {
      "cell_type": "code",
      "source": [
        "# Preview the available business names\n",
        "print(\"\\nAvailable Business Names:\")\n",
        "print(data['BUS_NAME'].unique())"
      ],
      "metadata": {
        "colab": {
          "base_uri": "https://localhost:8080/"
        },
        "id": "XBKfVaFO1zBt",
        "outputId": "a879256b-416b-4e19-c92c-e05fdcf5f7a2"
      },
      "execution_count": 5,
      "outputs": [
        {
          "output_type": "stream",
          "name": "stdout",
          "text": [
            "\n",
            "Available Business Names:\n",
            "['Alto Palo Inc' 'Columbia Basin Health Association'\n",
            " 'Computer Sciences Corporation' 'Northern States Power Company'\n",
            " 'Ufp Riverside, LLC' 'Expeditors International of Washington, Inc.'\n",
            " 'Keybank National Association' 'Trusteed Plans Service Corporation'\n",
            " 'Kttc Television Inc' 'Travel Guide, LLC'\n",
            " 'The Jones Financial Companies L L L P'\n",
            " 'Culligan Soft Water Service Company' 'Firstbank' 'Big 5 Corp.' 'Subway'\n",
            " 'The Preserve At Bal Harbor Condo Assoc Inc'\n",
            " 'Diamond Shamrock Refining and Marketing Company'\n",
            " 'AFLAC Florida East Market Office' 'Spooner Laveen, P.C.' 'Paul Sweezey'\n",
            " \"Arizona's Children Association\" 'Miracle-Ear'\n",
            " 'Rock Creek Veterinary Hospital' 'Colorado Free University, Inc.'\n",
            " 'University Vision Clinic, Inc.' 'Courtyard Denver Stapleton'\n",
            " 'Markay Cabinets, Inc.' 'Century Builders, LLC' 'T J R Inc'\n",
            " 'Melvin Concrete, Inc.' 'John C Kois DMD Msd Inc' 'Penney Opco LLC'\n",
            " \"Griffin's Dry Cleaning & Laundry, Inc.\"\n",
            " 'Discount Tire Company of Colorado, Inc.' 'Rl Jones Custom House Brokers'\n",
            " \"Kriser's Natural Pet\" 'County of Holmes' 'Adams Bank & Trust (inc)'\n",
            " 'Colorado Carpenters Statewide Joint Apprenticeship & Training Trust Fund'\n",
            " 'RG Bank, A Savings and Loan Association' 'Bakersfield Dodge, Inc.'\n",
            " 'Rocky Vista University LLC' 'Juliano Air Conditioning, Inc'\n",
            " 'Starbucks Corporation' 'Henshaw Marketing Enterprises, Inc.'\n",
            " 'Harborview Medical Center' 'Yakima Valley Farm Workers Clinic Inc'\n",
            " 'Homeowners' 'Phoenix Gospel Mission, Inc.' 'Citys Edge Apartments'\n",
            " 'McOpco Corp' 'Aurora Gun Club' 'Gesco Corporation'\n",
            " 'Pima County Amphitheater Schools' 'Great Frame Up'\n",
            " 'Lake County Air Conditioning & Heating, Inc.' 'Terraclear Inc.'\n",
            " 'County of Walton' 'Westchester Gold Fabricators, Inc.'\n",
            " 'Washington Federal, National Association'\n",
            " 'Sturgeon Electric Company, Inc.' 'Rancho Grande Wickenburg LLC'\n",
            " 'Henry & Horne, LLP' 'Andy & Camille Nack Holding Co Inc'\n",
            " 'Babcock Furniture and More' 'Weatherford Completion Systems'\n",
            " 'Natural Grocers-Vitamin Cttg' 'Don-Go Enterprises, Inc.'\n",
            " 'Ringkjob Agency' 'Desert Vista Eye Specialist'\n",
            " 'Florida Power & Light Company' 'Clario Analytics'\n",
            " 'Clean Power Research, L.L.C.' 'Mountainview' 'Premier Pet Hospital LLC'\n",
            " 'Novel Coworking' 'Lake County Schools' 'Motion Industries, Inc.'\n",
            " 'Wilbert, Inc.' 'Church of Saint Mary of The Lake'\n",
            " 'Paulson Bros Properties LLC' 'Circle K Stores Inc.'\n",
            " 'Frankfurter U S A Inc' 'Fireside At Noterra Community Association'\n",
            " 'Aap Veterinary Inc' 'Chipotle Mexican Grill, Inc.'\n",
            " 'Smith-Southwestern, Inc' 'Stater Bros. Markets'\n",
            " 'All Copy Products, Inc.' 'Gries Engineering, Inc.'\n",
            " 'Larimer County Weed Control' 'Red Bull Distribution Company, Inc.'\n",
            " 'Stemonix, Inc.' 'Kwik Trip, Inc.' 'Stephens Inc.' 'County of Highlands'\n",
            " 'Level 3 Telecom, LLC' 'North Side Honing'\n",
            " 'West Douglas County Fire Protection District' 'Hanesbrands Inc.'\n",
            " 'Creative Leather Furniture, Inc.' 'Double R L Ranch'\n",
            " 'Stater Bros. Markets Inc' 'Roundup Fellowship Inc'\n",
            " 'RSI Home Products Management, Inc.' 'Tire World, Inc.' 'J&Y Lim LLC'\n",
            " 'Kendra Delage Insurance' 'Trueblue, Inc.' 'Bell Bank'\n",
            " 'McDonalds Restaurant' 'Discount Food Mart'\n",
            " 'Safetycall International, Pllc' 'Keysight Technologies, Inc.'\n",
            " 'Thoratec LLC' 'Arizona Eastern Railroad' 'Willis Condominiums'\n",
            " 'Winter Park Snow Management LLC' 'Lakes Market'\n",
            " 'Elliott Bayview Apts Leasing Office' 'Earnhardt Chandler Cadillac, Inc.'\n",
            " 'Harris Bmo Bank National Association' 'Key Scales Ford, Inc.'\n",
            " 'Rocky Mountain Planned Parenthood, Inc.'\n",
            " 'PNC Bank, National Association' 'Professional Gastro'\n",
            " 'Central Baptist Church' 'Walgreen Co.' 'Desserts Only, Inc.'\n",
            " 'Rocky Mountain Furniture Group, LLC' 'Potestio Brothers, Inc.'\n",
            " 'Discount Tire Co., Inc.' \"St. Mark's Surgical Center, L.L.C.\"\n",
            " 'Ove Arup & Partners California' 'Lake Superior College Foundation, Inc.'\n",
            " 'Kids, Incorporated of The Big Bend' 'Planned Parenthood'\n",
            " 'Valley Marketing Group, Inc.' 'Athlos Leadership Academy'\n",
            " 'Surprise Mega LLC' 'Toyotalift, Inc.' 'James Raymond & Associates Inc'\n",
            " 'Dal-Tile Corporation' 'Ufp Washington, LLC' 'Solar Pool Heaters, Inc.'\n",
            " 'Associates West Real Estate Inc'\n",
            " 'Fellowship of Catholic University Students'\n",
            " 'Riverfront Village Hotel, LLC' 'United Hea' 'Umpqua Bank'\n",
            " 'Sun Devil Auto Parts, Inc.' 'Behavioral Tech, LLC'\n",
            " 'Emerald Hotel One, LLC' 'University of Colorado'\n",
            " 'American Residential Services LLC' 'Alignex, Inc.'\n",
            " 'Saint James Place Condominium Association' 'Dww Az, II, Inc.'\n",
            " 'Euro Collision' 'Medtronic, Inc.' 'Regency Management Service LLC'\n",
            " 'David Lundberg Building & Roofing' 'Colorado Department of Corrections'\n",
            " 'Cape Coral Eye Center, P.A.' 'Yrc Inc.'\n",
            " 'M. Arthur Gensler Jr. & Associates, Inc.' 'Cherry Township'\n",
            " 'Pennzoil Jiffy Lube Inc' 'Eastmoor Swim & Tennis Club & Association'\n",
            " 'Ksi Auto Parts' 'Jack Straw Foundation'\n",
            " 'Northwest Food Management Group Inc' 'Tbk Bank, Ssb'\n",
            " 'Mark Forgas - State Farm Insurance Agent' 'West Marine, Inc.' 'Xerox'\n",
            " \"Eklund's AG Services, Inc.\" 'American Renal Associates LLC'\n",
            " 'Patricia K Murray PC' 'Mental Health Center of Denver'\n",
            " 'Exxel Outdoors, LLC' 'County of Maricopa' 'T P Wollschlager DMD'\n",
            " 'Big Fish Bike Rentals Inc' 'Sutter Health' 'Parkside Lofts'\n",
            " '21st Century Bank' 'Pacific Western Bank'\n",
            " 'Western Convenience Stores Inc.' 'Watershed Capital Partners II, L.P.'\n",
            " 'Bank of America, National Association' 'Oneblood, Inc.'\n",
            " 'Veda Salon & Day Spa Inc' 'Agri Beef Co.'\n",
            " 'ROC III Dpc Denver Corporate Center LLC'\n",
            " 'Stifel, Nicolaus & Company, Incorporated'\n",
            " 'Fox Television Stations, Inc.' 'Alpha Audio Group, Inc.' 'Fapsc'\n",
            " 'Cascade Federal Credit Union' 'Travelodge Seattle Midtow'\n",
            " 'Global Fire Protection' 'Hammer Residences, Inc.' 'Artis-Naples, Inc.'\n",
            " 'Central Arizona Valley Institute of Technology' 'Petsmart LLC'\n",
            " 'Thyssenkrupp Materials Na, Inc.' 'Scottsdale Unified School District'\n",
            " 'Cherryfield LLC' 'Jax, Inc.' \"Blanton's Nursery\" 'Hughes Supply'\n",
            " 'Century City Condominium Association, Inc.' \"Rae's Place\"\n",
            " 'Zirkle Fruit Company' 'Quality Drywall - Plastering'\n",
            " 'Starland School Inc' 'Edward D. Jones & Co., L.P.'\n",
            " 'Inland Northwest Bank' 'A & D Pizza, Inc.' 'Animal Inn Wellness Cente'\n",
            " 'Raymond J Marquette MD' 'Manufacturers and Traders Trust Company'\n",
            " 'Cargill, Incorporated' 'Viking Financial Corporation' 'Agreserves Inc'\n",
            " 'Ffi Florida Inc' 'Love The Journey'\n",
            " 'Denver Rehabilitation Hospital, LLC' 'Challenger Homes Inc'\n",
            " 'Davis Engineering Service, Inc.' 'AV Homes, Inc.'\n",
            " 'Bellingham Physical Therapy, LLC'\n",
            " 'Providence Hospice of Seattle Foundation' 'Cushman & Wakefield, Inc.'\n",
            " 'Baker Michael International Inc' 'Collopy Real Estate, Inc.'\n",
            " 'Engineered Distribution Specialties LLC' 'Arizona Optical Company Inc'\n",
            " 'Strouss & Salmon Jennings' '7-Eleven, Inc.'\n",
            " 'Lewis Brisbois Bisgaard and Smith LLP'\n",
            " 'Pacific Sunwear of California, LLC' 'Lineage Logistics, LLC'\n",
            " 'Safety Drugs Incorporated' '7-Eleven' 'Gene Baker CPA PC'\n",
            " 'Springstone, Inc.' 'Minneapolis Public School District'\n",
            " 'Shilo Management Corporation' 'Sihuan Style'\n",
            " 'Northern AZ Pulmonary Specialist' 'Banc Home Loans'\n",
            " 'Al Vasey State Farm Insurance'\n",
            " 'Olympia Orthopaedic Associates - Westside Clinic' 'Centralized Vision'\n",
            " 'Highspot, Inc.' 'Snyder Capital Management LP'\n",
            " 'Financial Payments Network, LLC' 'Cardinal Crest Farms, LLC'\n",
            " 'Swift Company, LLC' 'Evergreen Refrigeration LLC' 'Action Appliance Inc'\n",
            " 'Mt Vernon School District 320 Inc'\n",
            " 'Jpmorgan Chase Bank, National Association'\n",
            " 'Costco Wholesale Corporation'\n",
            " 'Maricopa County Regional School District 509'\n",
            " 'Sacred Heart Health System, Inc.' 'Marriott Global Sales Office'\n",
            " 'Assumption of The Blessed Virgin Mary Catholic Parish In Denver'\n",
            " 'Blastonian Enterprises, LLC' 'Hda Architects, L.L.C.'\n",
            " 'Bluewater Associates, Inc.' 'Wells Fargo Bank, National Association'\n",
            " 'Hennepin County' 'Don Camp Bosco' 'County of Mason' 'Aldi Inc.'\n",
            " 'Cardinal Glass Industries, Inc.' 'Hercules Industries, Inc.'\n",
            " 'Fedex Freight Corporation' 'Walmart Inc.' 'Avis Budget Group, Inc.'\n",
            " 'AMI Enterprises, Inc.' 'Motiv Space Systems, Inc.'\n",
            " 'Drivetime Automotive Group, Inc.'\n",
            " 'Estebo, Frank, Gilk & Munshower, Ltd.' 'Wells Fargo & Company'\n",
            " 'Allina Health System' 'Subway Restaurant' 'Nelson Mullins Riley'\n",
            " 'Heacox, Hartman, Mattaini, Koshmrl, Cosgriff, and Johnson PA'\n",
            " 'Ross Stores, Inc.' 'Copper Creek Apartments LLC'\n",
            " 'Mufg Union Bank, National Association'\n",
            " 'Naples Cardiac and Endovascular Center, P.A.' 'Guess , Inc.'\n",
            " 'Carlisle Fluid Technologies, Inc.' 'R. Dahlstrom Incorporated'\n",
            " 'Petrochem Insulation, Inc.' '3M Company' 'County of Boulder'\n",
            " 'Marianna Auto Parts & Supply Co Inc'\n",
            " 'Cracker Barrel Old Country Store, Inc.' 'Homewood Point Apts'\n",
            " 'Picknik Inc' \"North Division Children's Learning Center, Inc.\"\n",
            " 'Airmax LLC' 'Broadstone Lexington' 'National University'\n",
            " 'Cogent Solutions & Supplies' 'Refrigeration Supplies Distributor'\n",
            " 'Ernest Healthflagstaff' 'Pima County' 'City of Inverness'\n",
            " 'Widefield School District 3' 'Downtown Emergency Service Center'\n",
            " 'A Storage Solution, Inc.' 'Disney Enterprises, Inc.'\n",
            " 'Reliable Auto Glass' 'Tire Centers, Inc.'\n",
            " 'Redwood Investment Management, LLC' 'Wsca AZ City Tucson Water'\n",
            " 'Friendship Baptist Church Inc. of Ocala'\n",
            " 'College of Central Florida Foundation, Inc.'\n",
            " 'Knight Transportation, Inc.' \"Kitsap Children's Clinic, LLC\"\n",
            " 'State Farm Insurance' 'DEMAND, INCORPORATED' 'Leprino Foods Company'\n",
            " 'Veer Lofts' 'Sequent Information Systems LLC' 'Charlotte County Fleet'\n",
            " 'University of Denver' 'Southside Station LLC'\n",
            " 'Transdev Business Solutio' 'Rise and Shine and Partners LLC'\n",
            " 'Menya No 1, LLC' 'Alaska USA Federal Credit Union'\n",
            " 'Goldenwest Diamond Corporation' 'Centene Corporation'\n",
            " 'Ministry of Foreign Affairs of Japan'\n",
            " 'Coca-Cola Bottling Co.-Yakima &TRi-cities, Inc.' 'Roman Roofing, Inc.'\n",
            " 'Veit & Company, Inc.' 'Antlers F&B, LLC'\n",
            " 'Scott Zeeman Certified Public Accountants PC' 'Ldrv Holdings Corp.'\n",
            " 'Refresco Beverages US Inc.' 'Tangletown Condominiums' 'West Wind Apts'\n",
            " 'Edward Leslie' 'Eaton Metal Products Company LLC'\n",
            " 'Colorado Springs Dermatology Clinic, P.C.'\n",
            " 'Metropolitan Council Management Association' 'Hsl Oracle Road Hotel LLC'\n",
            " 'CFM Acquisition Company' 'Otter Tail Power Company'\n",
            " 'Par Technology Corporation' 'HI Tech Systems Inc'\n",
            " 'Gonzaga Preparatory School, Inc.' 'Chaska Orthodontic Specialist'\n",
            " '255 Union Blvd LLC' 'Gre Herc Services, LLC'\n",
            " 'Gig Harbor Veterinary Hospital Inc' 'Fiesta En Jalisco'\n",
            " 'AAA Heating & Airconditioning' 'Isaac School District'\n",
            " 'Northern Natural Ind' 'Russell M. Aoki, Pllc' 'Turbinepros, LLC'\n",
            " 'Can Do Therapies, Inc.' 'Hill R0m Co Inc' 'Merit Electric, Inc.'\n",
            " 'Farmland Partners Inc.' 'Precision Auto Body & Sales' 'Derive Systems'\n",
            " 'Mark Magnuson' 'Wheelchairs Unlimited Inc'\n",
            " 'Eye Centers of Florida, P.A.' 'Lee County Public Schools'\n",
            " 'Liberty Mutual Insurance Company' 'Redi-National Pest Eliminators Inc'\n",
            " 'Tbc Retail Group, Inc.' 'Wells Fargo Home Mortgage Inc'\n",
            " 'Lakewood Bigfoot Java' 'Victor R Pereboom'\n",
            " 'Immokalee Water & Sewer District' 'Harbor Freight Tools Usa, Inc.'\n",
            " 'Sunsteel LLC' 'Tumwater Shell' 'Morel Roofing'\n",
            " 'Chaska Dental Center, P.A.' 'Amazon.com, Inc.' 'Mgs Machine Corporation'\n",
            " 'Jim Click, Inc.' 'Tractor Supply Company' 'Owatonna Properties, LLC'\n",
            " 'Gallup Propane Service, Inc' 'Felizarta MD Franco'\n",
            " 'Alcoholics Anonymous' 'Hobby Lobby Stores, Inc.'\n",
            " 'Swire Pacific Holdings Inc.' 'Sedgwick Claims Management Services, Inc.'\n",
            " 'Stantec Consulting Services Inc.'\n",
            " 'Garfield County Public Library Foundation, Inc.'\n",
            " 'HB University Drive LLC' 'Westminster Auto Parts, Inc.'\n",
            " 'Mile High United Way, Inc.' 'MINNESOTA ONCOLOGY HEMATOLOGY, P.A.'\n",
            " 'Anheuser-Busch, LLC' 'Sappi Cloquet LLC' 'Acslp, LLC'\n",
            " 'Office Depot, LLC' 'United Ground Express LLC' 'Maxlinear, Inc.'\n",
            " 'State Farm Ins' 'Tiffany L Ashton L C' 'Autozone, Inc.' 'Pirtek USA LLC'\n",
            " 'Del Taco LLC' 'The Sherwin-Williams Company' 'Nichirei U.S.A., LLC'\n",
            " 'FDT Restaurants Inc. DBA Pestos Pizza' 'Silver Lakes Liquor Store'\n",
            " 'Nexgentec LLC' 'J. Malever Construction Company'\n",
            " 'Qualcorr Engineering Corp.' 'Pioneer Title Agency Inc'\n",
            " 'Sak and Associates' \"Kohl's Inc.\" 'Intelagard, Inc.'\n",
            " 'Scenic Vista Senior Apartments, L.L.C.' 'Delta Dry Wall, Inc.'\n",
            " 'Bank of West' 'Dia Land Co., LLC' 'Thrift Way Supermarket'\n",
            " 'Comfort Dental of Aurora' 'Straightface Studios, L.L.C.'\n",
            " 'Copper State Bolt & Nut Company, Inc.' 'Ballard Designs, Inc.'\n",
            " 'Sage Dental' 'Custom Tax Business Services, Inc.'\n",
            " 'Maroon Creek Apartments' 'Elizabeth Day Remax Results'\n",
            " 'Microsoft Corporation' 'Managed Care Systems, LLC'\n",
            " 'Seaside Associated Stores, Inc.' 'Bernell Hunter' 'City of Wheat Ridge'\n",
            " 'Native New Yorkers' 'Holiday Stationstores, LLC'\n",
            " 'Cochise Associates Limited Partnership'\n",
            " \"Planned Parenthood Great Northwest, Hawai'i, Alaska, Indiana, and Kentucky\"\n",
            " 'City of Aspen' 'Collins Physical Therapy Institute, Inc.'\n",
            " 'Rand Richard MD' 'T-Care, Inc' 'Inbios International Inc'\n",
            " 'Vermillion State Bank' 'Builders Association of The Twin Cities Inc'\n",
            " 'Bluesky Breckenridge Association' 'Pbpbsphase II LLC' 'Rivers Edge'\n",
            " 'Smith Gardens, Inc.' 'Riiid Labs Inc.' 'Smg Food and Beverage, LLC'\n",
            " 'Southwest Medical Imaging, Ltd.' 'Corral Saloon Eatery'\n",
            " 'Starland Hutterian Brethren, Inc.' 'Independent School Dist 625']\n"
          ]
        }
      ]
    },
    {
      "cell_type": "code",
      "source": [
        "# Selecting the required columns\n",
        "required_columns = ['BUS_NAME', 'BUS_EST_NETWORK_SPEND', 'BUS_EST_SECURITY_SPEND', 'BUS_EST_VOICE_SPEND', 'BUS_EST_TOT_SPEND']\n",
        "data = data[required_columns]"
      ],
      "metadata": {
        "id": "xp4A4sqN11LH"
      },
      "execution_count": 6,
      "outputs": []
    },
    {
      "cell_type": "code",
      "source": [
        "# Handling missing values (if any)\n",
        "data.fillna(0, inplace=True)\n"
      ],
      "metadata": {
        "id": "ADwZZ66E14dm"
      },
      "execution_count": 7,
      "outputs": []
    },
    {
      "cell_type": "code",
      "source": [
        "# Select relevant columns for segmentation\n",
        "spend_columns = [\n",
        "    'BUS_EST_NETWORK_SPEND',\n",
        "    'BUS_EST_SECURITY_SPEND',\n",
        "    'BUS_EST_VOICE_SPEND',\n",
        "    'BUS_EST_TOT_SPEND'\n",
        "]"
      ],
      "metadata": {
        "id": "clM1CLVlSIrH"
      },
      "execution_count": 8,
      "outputs": []
    },
    {
      "cell_type": "code",
      "source": [
        "# Filter out rows with missing values in the selected columns\n",
        "data = data.dropna(subset=spend_columns)"
      ],
      "metadata": {
        "id": "XbaqGstTSLuA"
      },
      "execution_count": 9,
      "outputs": []
    },
    {
      "source": [
        "# Normalize the data for clustering\n",
        "scaler = StandardScaler()\n",
        "scaled_data = scaler.fit_transform(data[spend_columns])"
      ],
      "cell_type": "code",
      "metadata": {
        "id": "Cej0YkooSczd"
      },
      "execution_count": 10,
      "outputs": []
    },
    {
      "cell_type": "code",
      "source": [
        "# Apply K-Means clustering\n",
        "optimal_clusters = 2\n",
        "kmeans = KMeans(n_clusters=optimal_clusters, random_state=42)\n",
        "data['Cluster'] = kmeans.fit_predict(scaled_data)"
      ],
      "metadata": {
        "colab": {
          "base_uri": "https://localhost:8080/"
        },
        "id": "v5NkmmosSQfS",
        "outputId": "5718ab87-6a00-40f5-89a3-f681cc7312fd"
      },
      "execution_count": 11,
      "outputs": [
        {
          "output_type": "stream",
          "name": "stderr",
          "text": [
            "/usr/local/lib/python3.10/dist-packages/sklearn/cluster/_kmeans.py:1416: FutureWarning: The default value of `n_init` will change from 10 to 'auto' in 1.4. Set the value of `n_init` explicitly to suppress the warning\n",
            "  super()._check_params_vs_input(X, default_n_init=10)\n"
          ]
        }
      ]
    },
    {
      "cell_type": "code",
      "source": [
        "# Apply K-Means clustering\n",
        "optimal_clusters = 2\n",
        "kmeans = KMeans(n_clusters=optimal_clusters, random_state=42)\n",
        "data['Cluster'] = kmeans.fit_predict(scaled_data)"
      ],
      "metadata": {
        "colab": {
          "base_uri": "https://localhost:8080/"
        },
        "id": "n2QWPFfdS21j",
        "outputId": "29fb3d2d-3e83-4329-846a-b5e538fce059"
      },
      "execution_count": 12,
      "outputs": [
        {
          "output_type": "stream",
          "name": "stderr",
          "text": [
            "/usr/local/lib/python3.10/dist-packages/sklearn/cluster/_kmeans.py:1416: FutureWarning: The default value of `n_init` will change from 10 to 'auto' in 1.4. Set the value of `n_init` explicitly to suppress the warning\n",
            "  super()._check_params_vs_input(X, default_n_init=10)\n"
          ]
        }
      ]
    },
    {
      "cell_type": "code",
      "source": [
        "# Define the threshold for high-value customers (75th percentile)\n",
        "network_threshold = data['BUS_EST_NETWORK_SPEND'].quantile(0.75)\n",
        "security_threshold = data['BUS_EST_SECURITY_SPEND'].quantile(0.75)\n",
        "voice_threshold = data['BUS_EST_VOICE_SPEND'].quantile(0.75)\n",
        "tot_spend_threshold = data['BUS_EST_TOT_SPEND'].quantile(0.75)"
      ],
      "metadata": {
        "id": "2n_29cZVS3N0"
      },
      "execution_count": 13,
      "outputs": []
    },
    {
      "cell_type": "code",
      "source": [
        "# Function to classify customers as High-Value or Low-Value\n",
        "def classify_customer(row):\n",
        "    if (row['BUS_EST_NETWORK_SPEND'] >= network_threshold or\n",
        "        row['BUS_EST_SECURITY_SPEND'] >= security_threshold or\n",
        "        row['BUS_EST_VOICE_SPEND'] >= voice_threshold or\n",
        "        row['BUS_EST_TOT_SPEND'] >= tot_spend_threshold):\n",
        "        return 'High-Value'\n",
        "    else:\n",
        "        return 'Low-Value'"
      ],
      "metadata": {
        "id": "fZ8n8i6TS5k2"
      },
      "execution_count": 14,
      "outputs": []
    },
    {
      "source": [
        "# Apply the classification\n",
        "data['Customer_Segment'] = data.apply(classify_customer, axis=1)\n",
        "\n",
        "# Filter only high-value customers\n",
        "high_value_customers = data[data['Customer_Segment'] == 'High-Value']\n",
        "\n",
        "# Normalize data for high-value customers\n",
        "scaled_high_value_data = scaler.transform(high_value_customers[spend_columns])\n",
        "\n",
        "# Calculate cosine similarity\n",
        "cosine_sim = cosine_similarity(scaled_high_value_data)\n",
        "\n",
        "# Recommend based on cosine similarity - Get top 3 similar customers for each high-value customer\n",
        "def get_top_similar_customers(customer_index, sim_matrix, top_n=3):\n",
        "    # Use iloc to get the row based on the customer index in the high_value_customers dataframe\n",
        "    sim_scores = list(enumerate(sim_matrix[high_value_customers.index.get_loc(customer_index)]))\n",
        "    sim_scores = sorted(sim_scores, key=lambda x: x[1], reverse=True)\n",
        "    # Exclude itself (index 0) and get the top N similar customers\n",
        "    top_customers = sim_scores[1:top_n+1]\n",
        "    return top_customers\n",
        "\n",
        "# Generate recommendations for each high-value customer\n",
        "# Use the reset_index to get a new index for high_value_customers\n",
        "high_value_customers = high_value_customers.reset_index()\n",
        "high_value_customers['Recommendations'] = high_value_customers.index.map(\n",
        "    lambda idx: [x[0] for x in get_top_similar_customers(idx, cosine_sim)]\n",
        ")\n",
        "\n",
        "# Map recommended customer indices to clusters\n",
        "high_value_customers['Recommended_Clusters'] = high_value_customers['Recommendations'].apply(\n",
        "    lambda recs: [high_value_customers.iloc[rec]['Cluster'] for rec in recs]\n",
        ")\n",
        "\n",
        "# Display the high-value customers with recommendations and their corresponding clusters\n",
        "print(high_value_customers[['BUS_EST_TOT_SPEND', 'Cluster', 'Recommendations', 'Recommended_Clusters']])"
      ],
      "cell_type": "code",
      "metadata": {
        "colab": {
          "base_uri": "https://localhost:8080/"
        },
        "id": "MXfbi6biTltQ",
        "outputId": "8458b64b-305c-4695-c25f-de79729d5475"
      },
      "execution_count": 15,
      "outputs": [
        {
          "output_type": "stream",
          "name": "stdout",
          "text": [
            "     BUS_EST_TOT_SPEND  Cluster Recommendations Recommended_Clusters\n",
            "0             221415.0        1    [107, 7, 52]            [1, 1, 1]\n",
            "1             720723.0        1   [38, 122, 43]            [1, 1, 1]\n",
            "2             430264.0        1  [58, 135, 123]            [1, 1, 1]\n",
            "3            1847571.0        1    [16, 62, 36]            [1, 1, 1]\n",
            "4             236948.0        1   [108, 30, 70]            [1, 1, 1]\n",
            "..                 ...      ...             ...                  ...\n",
            "141           611515.0        1   [26, 27, 141]            [1, 1, 1]\n",
            "142          1189295.0        1   [142, 83, 57]            [1, 1, 1]\n",
            "143            77003.0        1   [12, 132, 28]            [1, 1, 1]\n",
            "144          8658488.0        0  [91, 130, 144]            [0, 0, 0]\n",
            "145           306647.0        1    [5, 137, 29]            [1, 1, 1]\n",
            "\n",
            "[146 rows x 4 columns]\n"
          ]
        }
      ]
    },
    {
      "cell_type": "code",
      "source": [
        "# Save the recommendations to a CSV file\n",
        "high_value_customers[['BUS_EST_TOT_SPEND', 'Cluster', 'Recommendations', 'Recommended_Clusters']].to_csv('/content/high_value_recommendations.csv', index=False)\n",
        "\n",
        "# Provide a link to download the CSV file\n",
        "from google.colab import files\n",
        "files.download('/content/high_value_recommendations.csv')"
      ],
      "metadata": {
        "colab": {
          "base_uri": "https://localhost:8080/",
          "height": 17
        },
        "id": "FuJJXU6kTDIM",
        "outputId": "fc244e1d-015f-41cb-a5d5-846b2ce77c5c"
      },
      "execution_count": 16,
      "outputs": [
        {
          "output_type": "display_data",
          "data": {
            "text/plain": [
              "<IPython.core.display.Javascript object>"
            ],
            "application/javascript": [
              "\n",
              "    async function download(id, filename, size) {\n",
              "      if (!google.colab.kernel.accessAllowed) {\n",
              "        return;\n",
              "      }\n",
              "      const div = document.createElement('div');\n",
              "      const label = document.createElement('label');\n",
              "      label.textContent = `Downloading \"${filename}\": `;\n",
              "      div.appendChild(label);\n",
              "      const progress = document.createElement('progress');\n",
              "      progress.max = size;\n",
              "      div.appendChild(progress);\n",
              "      document.body.appendChild(div);\n",
              "\n",
              "      const buffers = [];\n",
              "      let downloaded = 0;\n",
              "\n",
              "      const channel = await google.colab.kernel.comms.open(id);\n",
              "      // Send a message to notify the kernel that we're ready.\n",
              "      channel.send({})\n",
              "\n",
              "      for await (const message of channel.messages) {\n",
              "        // Send a message to notify the kernel that we're ready.\n",
              "        channel.send({})\n",
              "        if (message.buffers) {\n",
              "          for (const buffer of message.buffers) {\n",
              "            buffers.push(buffer);\n",
              "            downloaded += buffer.byteLength;\n",
              "            progress.value = downloaded;\n",
              "          }\n",
              "        }\n",
              "      }\n",
              "      const blob = new Blob(buffers, {type: 'application/binary'});\n",
              "      const a = document.createElement('a');\n",
              "      a.href = window.URL.createObjectURL(blob);\n",
              "      a.download = filename;\n",
              "      div.appendChild(a);\n",
              "      a.click();\n",
              "      div.remove();\n",
              "    }\n",
              "  "
            ]
          },
          "metadata": {}
        },
        {
          "output_type": "display_data",
          "data": {
            "text/plain": [
              "<IPython.core.display.Javascript object>"
            ],
            "application/javascript": [
              "download(\"download_ff77db2c-622a-40dc-8aeb-5f8b9f28f337\", \"high_value_recommendations.csv\", 5760)"
            ]
          },
          "metadata": {}
        }
      ]
    },
    {
      "source": [
        "# Apply the classification\n",
        "data['Customer_Segment'] = data.apply(classify_customer, axis=1)\n",
        "\n",
        "# Filter only high-value customers\n",
        "high_value_customers = data[data['Customer_Segment'] == 'High-Value']\n",
        "\n",
        "# Normalize data for high-value customers\n",
        "scaled_high_value_data = scaler.transform(high_value_customers[spend_columns])\n",
        "\n",
        "# Calculate cosine similarity\n",
        "cosine_sim = cosine_similarity(scaled_high_value_data)\n",
        "\n",
        "# Recommend based on cosine similarity - Get top 3 similar customers for each high-value customer\n",
        "def get_top_similar_customers(customer_index, sim_matrix, top_n=3):\n",
        "    # Use iloc to get the row based on the customer index in the high_value_customers dataframe\n",
        "    sim_scores = list(enumerate(sim_matrix[high_value_customers.index.get_loc(customer_index)]))\n",
        "    sim_scores = sorted(sim_scores, key=lambda x: x[1], reverse=True)\n",
        "    # Exclude itself (index 0) and get the top N similar customers\n",
        "    top_customers = sim_scores[1:top_n+1]\n",
        "    return [high_value_customers.iloc[x[0]]['BUS_NAME'] for x in top_customers] # Return BUS_NAME for recommended customers\n",
        "\n",
        "# Generate recommendations for each high-value customer\n",
        "# Use the reset_index to get a new index for high_value_customers\n",
        "high_value_customers = high_value_customers.reset_index()\n",
        "high_value_customers['Recommendations'] = high_value_customers.index.map(\n",
        "    lambda idx: [x for x in get_top_similar_customers(idx, cosine_sim)]\n",
        ")\n",
        "\n",
        "\n",
        "# Display the high-value customers with recommendations and their corresponding clusters\n",
        "print(high_value_customers[['BUS_NAME','BUS_EST_TOT_SPEND', 'Cluster', 'Recommendations']])"
      ],
      "cell_type": "code",
      "metadata": {
        "colab": {
          "base_uri": "https://localhost:8080/"
        },
        "id": "3nl5cC_WUZWX",
        "outputId": "c4486a7b-194f-468a-a2db-db0651c1f86a"
      },
      "execution_count": 17,
      "outputs": [
        {
          "output_type": "stream",
          "name": "stdout",
          "text": [
            "                                         BUS_NAME  BUS_EST_TOT_SPEND  Cluster  \\\n",
            "0                   Computer Sciences Corporation           221415.0        1   \n",
            "1                              Ufp Riverside, LLC           720723.0        1   \n",
            "2    Expeditors International of Washington, Inc.           430264.0        1   \n",
            "3                    Keybank National Association          1847571.0        1   \n",
            "4                             Kttc Television Inc           236948.0        1   \n",
            "..                                            ...                ...      ...   \n",
            "141                          Stater Bros. Markets           611515.0        1   \n",
            "142                                     Aldi Inc.          1189295.0        1   \n",
            "143               Southwest Medical Imaging, Ltd.            77003.0        1   \n",
            "144                                  Walmart Inc.          8658488.0        0   \n",
            "145                   Independent School Dist 625           306647.0        1   \n",
            "\n",
            "                                       Recommendations  \n",
            "0    [Alaska USA Federal Credit Union, Firstbank, P...  \n",
            "1    [Ufp Washington, LLC, Sedgwick Claims Manageme...  \n",
            "2    [Thyssenkrupp Materials Na, Inc., Copper State...  \n",
            "3    [Keybank National Association, Manufacturers a...  \n",
            "4    [Centene Corporation, Thoratec LLC, Minneapoli...  \n",
            "..                                                 ...  \n",
            "141  [Stater Bros. Markets, Stater Bros. Markets In...  \n",
            "142  [Aldi Inc., Avis Budget Group, Inc., Petsmart ...  \n",
            "143  [Adams Bank & Trust (inc), Pioneer Title Agenc...  \n",
            "144         [Walmart Inc., Walmart Inc., Walmart Inc.]  \n",
            "145  [Travel Guide, LLC, Microsoft Corporation, Tru...  \n",
            "\n",
            "[146 rows x 4 columns]\n"
          ]
        }
      ]
    },
    {
      "source": [
        "# Apply the classification\n",
        "data['Customer_Segment'] = data.apply(classify_customer, axis=1)\n",
        "\n",
        "# Filter only high-value customers\n",
        "high_value_customers = data[data['Customer_Segment'] == 'High-Value']\n",
        "\n",
        "# Normalize data for high-value customers\n",
        "scaled_high_value_data = scaler.transform(high_value_customers[spend_columns])\n",
        "\n",
        "# Calculate cosine similarity\n",
        "cosine_sim = cosine_similarity(scaled_high_value_data)\n",
        "\n",
        "# Recommend based on cosine similarity - Get top 3 similar customers for each high-value customer\n",
        "def get_top_similar_customers(customer_index, sim_matrix, top_n=3):\n",
        "    # Use iloc to get the row based on the customer index in the high_value_customers dataframe\n",
        "    sim_scores = list(enumerate(sim_matrix[high_value_customers.index.get_loc(customer_index)]))\n",
        "    sim_scores = sorted(sim_scores, key=lambda x: x[1], reverse=True)\n",
        "    # Exclude itself (index 0) and get the top N similar customers\n",
        "    top_customers = sim_scores[1:top_n+1]\n",
        "    return [high_value_customers.iloc[x[0]]['BUS_NAME'] for x in top_customers] # Return BUS_NAME for recommended customers\n",
        "\n",
        "# Generate recommendations for each high-value customer\n",
        "# Use the reset_index to get a new index for high_value_customers\n",
        "high_value_customers = high_value_customers.reset_index()\n",
        "high_value_customers['Recommendations'] = high_value_customers.index.map(\n",
        "    lambda idx: [x for x in get_top_similar_customers(idx, cosine_sim)]\n",
        ")\n",
        "\n",
        "\n",
        "# Display the high-value customers with recommendations and their corresponding clusters\n",
        "print(high_value_customers[['BUS_NAME','BUS_EST_TOT_SPEND', 'Cluster', 'Recommendations']])\n",
        "\n",
        "# Save recommendations to a CSV file\n",
        "high_value_customers[['BUS_NAME','BUS_EST_TOT_SPEND', 'Cluster', 'Recommendations']].to_csv('recommendations.csv', index=False)\n",
        "print(\"Recommendations saved to recommendations.csv\")"
      ],
      "cell_type": "code",
      "metadata": {
        "colab": {
          "base_uri": "https://localhost:8080/"
        },
        "id": "WkT81WORUwEI",
        "outputId": "4e507dda-bb74-4063-e8ae-b74852d5cae0"
      },
      "execution_count": 18,
      "outputs": [
        {
          "output_type": "stream",
          "name": "stdout",
          "text": [
            "                                         BUS_NAME  BUS_EST_TOT_SPEND  Cluster  \\\n",
            "0                   Computer Sciences Corporation           221415.0        1   \n",
            "1                              Ufp Riverside, LLC           720723.0        1   \n",
            "2    Expeditors International of Washington, Inc.           430264.0        1   \n",
            "3                    Keybank National Association          1847571.0        1   \n",
            "4                             Kttc Television Inc           236948.0        1   \n",
            "..                                            ...                ...      ...   \n",
            "141                          Stater Bros. Markets           611515.0        1   \n",
            "142                                     Aldi Inc.          1189295.0        1   \n",
            "143               Southwest Medical Imaging, Ltd.            77003.0        1   \n",
            "144                                  Walmart Inc.          8658488.0        0   \n",
            "145                   Independent School Dist 625           306647.0        1   \n",
            "\n",
            "                                       Recommendations  \n",
            "0    [Alaska USA Federal Credit Union, Firstbank, P...  \n",
            "1    [Ufp Washington, LLC, Sedgwick Claims Manageme...  \n",
            "2    [Thyssenkrupp Materials Na, Inc., Copper State...  \n",
            "3    [Keybank National Association, Manufacturers a...  \n",
            "4    [Centene Corporation, Thoratec LLC, Minneapoli...  \n",
            "..                                                 ...  \n",
            "141  [Stater Bros. Markets, Stater Bros. Markets In...  \n",
            "142  [Aldi Inc., Avis Budget Group, Inc., Petsmart ...  \n",
            "143  [Adams Bank & Trust (inc), Pioneer Title Agenc...  \n",
            "144         [Walmart Inc., Walmart Inc., Walmart Inc.]  \n",
            "145  [Travel Guide, LLC, Microsoft Corporation, Tru...  \n",
            "\n",
            "[146 rows x 4 columns]\n",
            "Recommendations saved to recommendations.csv\n"
          ]
        }
      ]
    },
    {
      "source": [
        "from google.colab import files\n",
        "files.download('high_value_recommendations.csv') # Changed filename to  'high_value_recommendations.csv'"
      ],
      "cell_type": "code",
      "metadata": {
        "colab": {
          "base_uri": "https://localhost:8080/",
          "height": 17
        },
        "id": "26Kz6eAcWBmp",
        "outputId": "9512add3-1482-465f-e076-f14a92cf752c"
      },
      "execution_count": null,
      "outputs": [
        {
          "output_type": "display_data",
          "data": {
            "text/plain": [
              "<IPython.core.display.Javascript object>"
            ],
            "application/javascript": [
              "\n",
              "    async function download(id, filename, size) {\n",
              "      if (!google.colab.kernel.accessAllowed) {\n",
              "        return;\n",
              "      }\n",
              "      const div = document.createElement('div');\n",
              "      const label = document.createElement('label');\n",
              "      label.textContent = `Downloading \"${filename}\": `;\n",
              "      div.appendChild(label);\n",
              "      const progress = document.createElement('progress');\n",
              "      progress.max = size;\n",
              "      div.appendChild(progress);\n",
              "      document.body.appendChild(div);\n",
              "\n",
              "      const buffers = [];\n",
              "      let downloaded = 0;\n",
              "\n",
              "      const channel = await google.colab.kernel.comms.open(id);\n",
              "      // Send a message to notify the kernel that we're ready.\n",
              "      channel.send({})\n",
              "\n",
              "      for await (const message of channel.messages) {\n",
              "        // Send a message to notify the kernel that we're ready.\n",
              "        channel.send({})\n",
              "        if (message.buffers) {\n",
              "          for (const buffer of message.buffers) {\n",
              "            buffers.push(buffer);\n",
              "            downloaded += buffer.byteLength;\n",
              "            progress.value = downloaded;\n",
              "          }\n",
              "        }\n",
              "      }\n",
              "      const blob = new Blob(buffers, {type: 'application/binary'});\n",
              "      const a = document.createElement('a');\n",
              "      a.href = window.URL.createObjectURL(blob);\n",
              "      a.download = filename;\n",
              "      div.appendChild(a);\n",
              "      a.click();\n",
              "      div.remove();\n",
              "    }\n",
              "  "
            ]
          },
          "metadata": {}
        },
        {
          "output_type": "display_data",
          "data": {
            "text/plain": [
              "<IPython.core.display.Javascript object>"
            ],
            "application/javascript": [
              "download(\"download_44179d76-70c0-4f53-8692-ec878b1ef912\", \"high_value_recommendations.csv\", 5760)"
            ]
          },
          "metadata": {}
        }
      ]
    }
  ]
}